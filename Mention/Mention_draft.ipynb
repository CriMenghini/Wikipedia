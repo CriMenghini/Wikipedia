{
 "cells": [
  {
   "cell_type": "markdown",
   "metadata": {
    "collapsed": true
   },
   "source": [
    "## Get in touch with Wikipedia\n",
    "\n",
    "*Remark:* for the tidiness of the `Notebook` the classes and function used are gathered in external libraries."
   ]
  },
  {
   "cell_type": "markdown",
   "metadata": {},
   "source": [
    "#### Table of contents\n",
    "1. [Find articles](#parse)\n",
    "2. [Rank articles according to November pageviews](#rank)"
   ]
  },
  {
   "cell_type": "code",
   "execution_count": 1,
   "metadata": {
    "collapsed": true
   },
   "outputs": [],
   "source": [
    "from wiki_parser import *\n",
    "from helpers_parser import *"
   ]
  },
  {
   "cell_type": "markdown",
   "metadata": {},
   "source": [
    "### 1. Find articles <a name=\"parse\"></a>\n",
    "The fist goal to achive is to find all the Italian and Portuguese Wikipedia articles that mention `Matteo Renzi`. In order to do so,I implemented a [parser](wiki_parser.py) which goes through the raw data and then keeps and stores the `title` and the `text` of the elements of the corpora that mention the [Italian (almost) ex Prime Minister](http://gph.is/29zqwgy)."
   ]
  },
  {
   "cell_type": "code",
   "execution_count": 2,
   "metadata": {
    "collapsed": true
   },
   "outputs": [],
   "source": [
    "# Define the path of the corpora\n",
    "path = '/Users/cristinamenghini/Downloads/'\n",
    "xml_files = ['itwiki-20161120-pages-articles-multistream.xml', 'ptwiki-20161201-pages-articles-multistream.xml']"
   ]
  },
  {
   "cell_type": "markdown",
   "metadata": {},
   "source": [
    "Have a quick peek at a snippet of the `xml`. The elements we are interested in are under the child `page`, which identifies an article. Then we want to get the contents of `title` and `text`."
   ]
  },
  {
   "cell_type": "code",
   "execution_count": 3,
   "metadata": {
    "collapsed": false
   },
   "outputs": [
    {
     "data": {
      "text/plain": [
       "['      <namespace key=\"2303\" case=\"case-sensitive\">Discussioni definizione accessorio</namespace>\\n',\n",
       " '      <namespace key=\"2600\" case=\"first-letter\">Argomento</namespace>\\n',\n",
       " '    </namespaces>\\n',\n",
       " '  </siteinfo>\\n',\n",
       " '  <page>\\n',\n",
       " '    <title>Armonium</title>\\n',\n",
       " '    <ns>0</ns>\\n',\n",
       " '    <id>2</id>\\n',\n",
       " '    <revision>\\n',\n",
       " '      <id>83431090</id>\\n',\n",
       " '      <parentid>82477294</parentid>\\n',\n",
       " '      <timestamp>2016-09-24T14:25:49Z</timestamp>\\n',\n",
       " '      <contributor>\\n',\n",
       " '        <username>Pufui PcPifpef</username>\\n',\n",
       " '        <id>461628</id>\\n',\n",
       " '      </contributor>\\n',\n",
       " '      <comment>/* Altri progetti */</comment>\\n',\n",
       " '      <model>wikitext</model>\\n',\n",
       " '      <format>text/x-wiki</format>\\n',\n",
       " '      <text xml:space=\"preserve\">{{nota disambigua|il complesso italiano|Armonium (gruppo musicale)}}&lt;!--\\n']"
      ]
     },
     "execution_count": 3,
     "metadata": {},
     "output_type": "execute_result"
    }
   ],
   "source": [
    "with open(path + xml_files[0]) as myfile:\n",
    "    head = [next(myfile) for x in range(80)]\n",
    "\n",
    "# Snippet\n",
    "head[-45:55]"
   ]
  },
  {
   "cell_type": "markdown",
   "metadata": {},
   "source": [
    "Due to the big size of the `xml` I opted for a parser which registers callbacks for events of interes and then let the parser proceed through the document. The text of the article has not been preprocessed since for the purpose of our analysis we are not going to analyze the text in itself.\n",
    "\n",
    "Hence, I proceed parsing the Italian corpus."
   ]
  },
  {
   "cell_type": "code",
   "execution_count": 4,
   "metadata": {
    "collapsed": false
   },
   "outputs": [],
   "source": [
    "# Parse italian corpus\n",
    "parse_articles('ita', path + xml_files[0])"
   ]
  },
  {
   "cell_type": "markdown",
   "metadata": {},
   "source": [
    "Then move towards the Portuguese one."
   ]
  },
  {
   "cell_type": "code",
   "execution_count": 5,
   "metadata": {
    "collapsed": true
   },
   "outputs": [],
   "source": [
    "# Parse portuguese corpus\n",
    "parse_articles('port', path + xml_files[1])"
   ]
  },
  {
   "cell_type": "markdown",
   "metadata": {},
   "source": [
    "The articles are filtered according to the presence of the mention to Matteo Renzi, those in Italian have been stored in a [`.json` file](Corpus/wiki_ita_matteo_renzi.json) whose each line corresponds to a page (`title`, `text`). The same holds for the [articles](Corpus/wiki_port_matteo_renzi.json) in Portuguese. The two corpora are stored in the folder [`Corpus`](https://github.com/CriMenghini/Wikipedia/tree/master/Corpus).\n",
    "\n",
    "                                      {\"title\": \"title_1\", \"text\": \"text_1\"}\n",
    "                                                        ...\n",
    "                                                        ...\n",
    "                                      {\"title\": \"title_n\", \"text\": \"text_n\"}"
   ]
  },
  {
   "cell_type": "markdown",
   "metadata": {},
   "source": [
    "### Rank articles according to November pageviews <a name=\"parse\"></a>"
   ]
  },
  {
   "cell_type": "code",
   "execution_count": 3,
   "metadata": {
    "collapsed": true
   },
   "outputs": [],
   "source": [
    "import pandas as pd\n",
    "import json\n",
    "import codecs"
   ]
  },
  {
   "cell_type": "code",
   "execution_count": 18,
   "metadata": {
    "collapsed": true
   },
   "outputs": [],
   "source": [
    "def read_json(json_,):\n",
    "    \"\"\" This funtion returns the data frame of article titles that mention Matteo Renzi.\n",
    "    It takes as input:\n",
    "    \n",
    "    @json_: is the path of the .json to import\"\"\"\n",
    "    \n",
    "    # Initialise the list to store titles\n",
    "    list_titles = []\n",
    "    \n",
    "    # Read line by line \n",
    "    with codecs.open(json_,'rU','utf-8') as f:\n",
    "        for line in f:\n",
    "            list_titles.append(json.loads(line)['title'])\n",
    "    \n",
    "    # Convert list titles in a df\n",
    "    list_titles = pd.DataFrame(list_titles, columns=['Title'])\n",
    "    \n",
    "    return list_titles"
   ]
  },
  {
   "cell_type": "code",
   "execution_count": 21,
   "metadata": {
    "collapsed": false
   },
   "outputs": [],
   "source": [
    "df_it_titles = read_json('Corpus/wiki_ita_matteo_renzi.json')"
   ]
  },
  {
   "cell_type": "code",
   "execution_count": 22,
   "metadata": {
    "collapsed": true
   },
   "outputs": [],
   "source": [
    "df_pt_titles = read_json('Corpus/wiki_port_matteo_renzi.json')"
   ]
  },
  {
   "cell_type": "code",
   "execution_count": 26,
   "metadata": {
    "collapsed": true
   },
   "outputs": [],
   "source": [
    "import time"
   ]
  },
  {
   "cell_type": "code",
   "execution_count": 63,
   "metadata": {
    "collapsed": false
   },
   "outputs": [
    {
     "name": "stdout",
     "output_type": "stream",
     "text": [
      "115.73478293418884\n"
     ]
    }
   ],
   "source": [
    "s = time.time()\n",
    "it_art = {}\n",
    "pt_art = {}\n",
    "with open('/Users/cristinamenghini/Downloads/pagecounts-2016-11-views-ge-5-totals') as fp:\n",
    "    for line in fp:\n",
    "        split_line = line.split(' ')\n",
    "        \n",
    "        # Get title\n",
    "        title_split = split_line[1].split(':')\n",
    "        \n",
    "        # Filter by the language namespace\n",
    "        if split_line[0].startswith('it'):\n",
    "            it_art = get_pageviews(it_art)\n",
    "        \n",
    "        elif split_line[0].startswith('pt'):\n",
    "            pt_art = get_pageviews(pt_art)\n",
    "\n",
    "print (time.time()-s)"
   ]
  },
  {
   "cell_type": "code",
   "execution_count": 104,
   "metadata": {
    "collapsed": true
   },
   "outputs": [],
   "source": [
    "def define_ranked_df(dict_art, mention_title):\n",
    "    df_total_article = pd.DataFrame(list(dict_art.items()), columns=['Title', 'Pageviews'])\n",
    "\n",
    "    interested_art = pd.merge(df_total_article, mention_title, how = 'right', on=['Title'])\n",
    "    \n",
    "\n",
    "    visited_article = interested_art[interested_art['Pageviews'].notnull()]\n",
    "    \n",
    "\n",
    "    ranked_articles = visited_article.sort_values('Pageviews', ascending = False)\n",
    "    \n",
    "    return ranked_articles"
   ]
  },
  {
   "cell_type": "code",
   "execution_count": 105,
   "metadata": {
    "collapsed": false
   },
   "outputs": [
    {
     "data": {
      "text/html": [
       "<div>\n",
       "<table border=\"1\" class=\"dataframe\">\n",
       "  <thead>\n",
       "    <tr style=\"text-align: right;\">\n",
       "      <th></th>\n",
       "      <th>Title</th>\n",
       "      <th>Pageviews</th>\n",
       "    </tr>\n",
       "  </thead>\n",
       "  <tbody>\n",
       "    <tr>\n",
       "      <th>319</th>\n",
       "      <td>Marco Travaglio</td>\n",
       "      <td>19795.0</td>\n",
       "    </tr>\n",
       "    <tr>\n",
       "      <th>88</th>\n",
       "      <td>Pif (conduttore televisivo)</td>\n",
       "      <td>19557.0</td>\n",
       "    </tr>\n",
       "    <tr>\n",
       "      <th>91</th>\n",
       "      <td>Partito Democratico (Italia)</td>\n",
       "      <td>11653.0</td>\n",
       "    </tr>\n",
       "    <tr>\n",
       "      <th>234</th>\n",
       "      <td>Vittorio Sgarbi</td>\n",
       "      <td>11324.0</td>\n",
       "    </tr>\n",
       "    <tr>\n",
       "      <th>60</th>\n",
       "      <td>Malala Yousafzai</td>\n",
       "      <td>9452.0</td>\n",
       "    </tr>\n",
       "  </tbody>\n",
       "</table>\n",
       "</div>"
      ],
      "text/plain": [
       "                            Title  Pageviews\n",
       "319               Marco Travaglio    19795.0\n",
       "88    Pif (conduttore televisivo)    19557.0\n",
       "91   Partito Democratico (Italia)    11653.0\n",
       "234               Vittorio Sgarbi    11324.0\n",
       "60               Malala Yousafzai     9452.0"
      ]
     },
     "execution_count": 105,
     "metadata": {},
     "output_type": "execute_result"
    }
   ],
   "source": [
    "define_ranked_df(it_art, df_it_titles).head()"
   ]
  },
  {
   "cell_type": "code",
   "execution_count": 109,
   "metadata": {
    "collapsed": false
   },
   "outputs": [
    {
     "data": {
      "text/html": [
       "<div>\n",
       "<table border=\"1\" class=\"dataframe\">\n",
       "  <thead>\n",
       "    <tr style=\"text-align: right;\">\n",
       "      <th></th>\n",
       "      <th>Title</th>\n",
       "      <th>Pageviews</th>\n",
       "    </tr>\n",
       "  </thead>\n",
       "  <tbody>\n",
       "    <tr>\n",
       "      <th>23</th>\n",
       "      <td>Partido Democrático (Itália)</td>\n",
       "      <td>567.0</td>\n",
       "    </tr>\n",
       "    <tr>\n",
       "      <th>29</th>\n",
       "      <td>Lista de chefes de Estado e de governo atuais</td>\n",
       "      <td>410.0</td>\n",
       "    </tr>\n",
       "    <tr>\n",
       "      <th>34</th>\n",
       "      <td>G7</td>\n",
       "      <td>259.0</td>\n",
       "    </tr>\n",
       "    <tr>\n",
       "      <th>5</th>\n",
       "      <td>Federica Mogherini</td>\n",
       "      <td>215.0</td>\n",
       "    </tr>\n",
       "    <tr>\n",
       "      <th>18</th>\n",
       "      <td>G20</td>\n",
       "      <td>185.0</td>\n",
       "    </tr>\n",
       "    <tr>\n",
       "      <th>31</th>\n",
       "      <td>Centro-esquerda</td>\n",
       "      <td>141.0</td>\n",
       "    </tr>\n",
       "    <tr>\n",
       "      <th>2</th>\n",
       "      <td>Privatização</td>\n",
       "      <td>93.0</td>\n",
       "    </tr>\n",
       "    <tr>\n",
       "      <th>7</th>\n",
       "      <td>Lista de chefes de Estado e de governo por dat...</td>\n",
       "      <td>83.0</td>\n",
       "    </tr>\n",
       "    <tr>\n",
       "      <th>37</th>\n",
       "      <td>9.ª reunião de cúpula do G20</td>\n",
       "      <td>81.0</td>\n",
       "    </tr>\n",
       "    <tr>\n",
       "      <th>25</th>\n",
       "      <td>10.ª reunião de cúpula do G20</td>\n",
       "      <td>70.0</td>\n",
       "    </tr>\n",
       "    <tr>\n",
       "      <th>1</th>\n",
       "      <td>Sergio Mattarella</td>\n",
       "      <td>68.0</td>\n",
       "    </tr>\n",
       "    <tr>\n",
       "      <th>3</th>\n",
       "      <td>G8+5</td>\n",
       "      <td>62.0</td>\n",
       "    </tr>\n",
       "    <tr>\n",
       "      <th>14</th>\n",
       "      <td>Ataque ao Museu Nacional do Bardo</td>\n",
       "      <td>54.0</td>\n",
       "    </tr>\n",
       "    <tr>\n",
       "      <th>22</th>\n",
       "      <td>Massacre do Charlie Hebdo</td>\n",
       "      <td>49.0</td>\n",
       "    </tr>\n",
       "    <tr>\n",
       "      <th>4</th>\n",
       "      <td>42.ª reunião de cúpula do G7</td>\n",
       "      <td>33.0</td>\n",
       "    </tr>\n",
       "    <tr>\n",
       "      <th>28</th>\n",
       "      <td>Matteo Renzi</td>\n",
       "      <td>26.0</td>\n",
       "    </tr>\n",
       "    <tr>\n",
       "      <th>8</th>\n",
       "      <td>Canonização de João XXIII e João Paulo II</td>\n",
       "      <td>26.0</td>\n",
       "    </tr>\n",
       "    <tr>\n",
       "      <th>10</th>\n",
       "      <td>Terremotos da Itália de outubro de 2016</td>\n",
       "      <td>26.0</td>\n",
       "    </tr>\n",
       "    <tr>\n",
       "      <th>32</th>\n",
       "      <td>Lista de líderes do G8</td>\n",
       "      <td>24.0</td>\n",
       "    </tr>\n",
       "    <tr>\n",
       "      <th>12</th>\n",
       "      <td>Conselho Europeu</td>\n",
       "      <td>24.0</td>\n",
       "    </tr>\n",
       "    <tr>\n",
       "      <th>13</th>\n",
       "      <td>Cerimônia de abertura dos Jogos Olímpicos de V...</td>\n",
       "      <td>21.0</td>\n",
       "    </tr>\n",
       "    <tr>\n",
       "      <th>30</th>\n",
       "      <td>Pietro Grasso</td>\n",
       "      <td>20.0</td>\n",
       "    </tr>\n",
       "    <tr>\n",
       "      <th>6</th>\n",
       "      <td>Giorgio Napolitano</td>\n",
       "      <td>16.0</td>\n",
       "    </tr>\n",
       "    <tr>\n",
       "      <th>33</th>\n",
       "      <td>Presidente do Conselho de Ministros da Itália</td>\n",
       "      <td>14.0</td>\n",
       "    </tr>\n",
       "    <tr>\n",
       "      <th>11</th>\n",
       "      <td>La Repubblica</td>\n",
       "      <td>13.0</td>\n",
       "    </tr>\n",
       "    <tr>\n",
       "      <th>36</th>\n",
       "      <td>Lista de primeiros-ministros da Itália</td>\n",
       "      <td>12.0</td>\n",
       "    </tr>\n",
       "    <tr>\n",
       "      <th>27</th>\n",
       "      <td>Angelino Alfano</td>\n",
       "      <td>12.0</td>\n",
       "    </tr>\n",
       "    <tr>\n",
       "      <th>21</th>\n",
       "      <td>Lista de viagens presidenciais de Mauricio Macri</td>\n",
       "      <td>11.0</td>\n",
       "    </tr>\n",
       "    <tr>\n",
       "      <th>20</th>\n",
       "      <td>Eleição presidencial na Argentina em 2015</td>\n",
       "      <td>9.0</td>\n",
       "    </tr>\n",
       "    <tr>\n",
       "      <th>9</th>\n",
       "      <td>Lista de viagens presidenciais de Dilma Rousseff</td>\n",
       "      <td>9.0</td>\n",
       "    </tr>\n",
       "    <tr>\n",
       "      <th>15</th>\n",
       "      <td>Enrico Letta</td>\n",
       "      <td>9.0</td>\n",
       "    </tr>\n",
       "    <tr>\n",
       "      <th>0</th>\n",
       "      <td>Milena Canonero</td>\n",
       "      <td>8.0</td>\n",
       "    </tr>\n",
       "    <tr>\n",
       "      <th>16</th>\n",
       "      <td>Lista de líderes do G20</td>\n",
       "      <td>8.0</td>\n",
       "    </tr>\n",
       "    <tr>\n",
       "      <th>26</th>\n",
       "      <td>11.ª reunião de cúpula do G20</td>\n",
       "      <td>7.0</td>\n",
       "    </tr>\n",
       "    <tr>\n",
       "      <th>24</th>\n",
       "      <td>Giuliano Poletti</td>\n",
       "      <td>7.0</td>\n",
       "    </tr>\n",
       "    <tr>\n",
       "      <th>17</th>\n",
       "      <td>Marianna Madia</td>\n",
       "      <td>6.0</td>\n",
       "    </tr>\n",
       "    <tr>\n",
       "      <th>35</th>\n",
       "      <td>Maria Elena Boschi</td>\n",
       "      <td>5.0</td>\n",
       "    </tr>\n",
       "    <tr>\n",
       "      <th>19</th>\n",
       "      <td>Itália</td>\n",
       "      <td>5.0</td>\n",
       "    </tr>\n",
       "  </tbody>\n",
       "</table>\n",
       "</div>"
      ],
      "text/plain": [
       "                                                Title  Pageviews\n",
       "23                       Partido Democrático (Itália)      567.0\n",
       "29      Lista de chefes de Estado e de governo atuais      410.0\n",
       "34                                                 G7      259.0\n",
       "5                                  Federica Mogherini      215.0\n",
       "18                                                G20      185.0\n",
       "31                                    Centro-esquerda      141.0\n",
       "2                                        Privatização       93.0\n",
       "7   Lista de chefes de Estado e de governo por dat...       83.0\n",
       "37                       9.ª reunião de cúpula do G20       81.0\n",
       "25                      10.ª reunião de cúpula do G20       70.0\n",
       "1                                   Sergio Mattarella       68.0\n",
       "3                                                G8+5       62.0\n",
       "14                  Ataque ao Museu Nacional do Bardo       54.0\n",
       "22                          Massacre do Charlie Hebdo       49.0\n",
       "4                        42.ª reunião de cúpula do G7       33.0\n",
       "28                                       Matteo Renzi       26.0\n",
       "8           Canonização de João XXIII e João Paulo II       26.0\n",
       "10            Terremotos da Itália de outubro de 2016       26.0\n",
       "32                             Lista de líderes do G8       24.0\n",
       "12                                   Conselho Europeu       24.0\n",
       "13  Cerimônia de abertura dos Jogos Olímpicos de V...       21.0\n",
       "30                                      Pietro Grasso       20.0\n",
       "6                                  Giorgio Napolitano       16.0\n",
       "33      Presidente do Conselho de Ministros da Itália       14.0\n",
       "11                                      La Repubblica       13.0\n",
       "36             Lista de primeiros-ministros da Itália       12.0\n",
       "27                                    Angelino Alfano       12.0\n",
       "21   Lista de viagens presidenciais de Mauricio Macri       11.0\n",
       "20          Eleição presidencial na Argentina em 2015        9.0\n",
       "9    Lista de viagens presidenciais de Dilma Rousseff        9.0\n",
       "15                                       Enrico Letta        9.0\n",
       "0                                     Milena Canonero        8.0\n",
       "16                            Lista de líderes do G20        8.0\n",
       "26                      11.ª reunião de cúpula do G20        7.0\n",
       "24                                   Giuliano Poletti        7.0\n",
       "17                                     Marianna Madia        6.0\n",
       "35                                 Maria Elena Boschi        5.0\n",
       "19                                             Itália        5.0"
      ]
     },
     "execution_count": 109,
     "metadata": {},
     "output_type": "execute_result"
    }
   ],
   "source": [
    "define_ranked_df(pt_art, df_pt_titles)"
   ]
  },
  {
   "cell_type": "code",
   "execution_count": 59,
   "metadata": {
    "collapsed": false
   },
   "outputs": [],
   "source": [
    "a = list(it_art.keys())"
   ]
  },
  {
   "cell_type": "code",
   "execution_count": 64,
   "metadata": {
    "collapsed": false
   },
   "outputs": [
    {
     "data": {
      "text/plain": [
       "61"
      ]
     },
     "execution_count": 64,
     "metadata": {},
     "output_type": "execute_result"
    }
   ],
   "source": [
    "it_art['Villa di Faragola']"
   ]
  },
  {
   "cell_type": "code",
   "execution_count": 65,
   "metadata": {
    "collapsed": false
   },
   "outputs": [],
   "source": [
    "def get_pageviews(lang_dict, title_split, split_line):\n",
    "    \"\"\" This function adjourn add elements to the dictionary (key, value): (title, pageviews) \n",
    "    and returns the dictionary. \n",
    "    It takes as inputs:\n",
    "    \n",
    "    @lang_dict: the dictionary to adjourn\n",
    "    @title_split: list of elements in the second column (splitting by ':')\n",
    "    @split_line: three column entries of a line of the pageviews file\"\"\"\n",
    "    \n",
    "    # Check whether the split by ':' produces more than one element\n",
    "    if len(title_split) == 2:\n",
    "        # Add the article and the respective pageviews to the dictionary\n",
    "        lang_dict[title_split[1].replace('_', ' ')] = int(split_line[2])\n",
    "    \n",
    "    elif len(title_split) == 1:\n",
    "        # Add the article and the respective pageviews to the dictionary\n",
    "        lang_dict[title_split[0].replace('_', ' ')] = int(split_line[2])\n",
    "        \n",
    "    return lang_dict"
   ]
  },
  {
   "cell_type": "code",
   "execution_count": 70,
   "metadata": {
    "collapsed": false
   },
   "outputs": [],
   "source": [
    "df_total_article_it = pd.DataFrame(list(it_art.items()), columns=['Title', 'Pageviews'])"
   ]
  },
  {
   "cell_type": "code",
   "execution_count": 73,
   "metadata": {
    "collapsed": false
   },
   "outputs": [
    {
     "data": {
      "text/html": [
       "<div>\n",
       "<table border=\"1\" class=\"dataframe\">\n",
       "  <thead>\n",
       "    <tr style=\"text-align: right;\">\n",
       "      <th></th>\n",
       "      <th>Title</th>\n",
       "      <th>Pageviews</th>\n",
       "    </tr>\n",
       "  </thead>\n",
       "  <tbody>\n",
       "    <tr>\n",
       "      <th>0</th>\n",
       "      <td></td>\n",
       "      <td>49</td>\n",
       "    </tr>\n",
       "    <tr>\n",
       "      <th>1</th>\n",
       "      <td>Villa di Faragola</td>\n",
       "      <td>61</td>\n",
       "    </tr>\n",
       "    <tr>\n",
       "      <th>2</th>\n",
       "      <td>Giulio Sciorilli Borrelli</td>\n",
       "      <td>32</td>\n",
       "    </tr>\n",
       "    <tr>\n",
       "      <th>3</th>\n",
       "      <td>Consiglio ONU per i Diritti Umani</td>\n",
       "      <td>44</td>\n",
       "    </tr>\n",
       "    <tr>\n",
       "      <th>4</th>\n",
       "      <td>Voltammetria ad onda quadra</td>\n",
       "      <td>55</td>\n",
       "    </tr>\n",
       "  </tbody>\n",
       "</table>\n",
       "</div>"
      ],
      "text/plain": [
       "                               Title  Pageviews\n",
       "0                                            49\n",
       "1                  Villa di Faragola         61\n",
       "2          Giulio Sciorilli Borrelli         32\n",
       "3  Consiglio ONU per i Diritti Umani         44\n",
       "4        Voltammetria ad onda quadra         55"
      ]
     },
     "execution_count": 73,
     "metadata": {},
     "output_type": "execute_result"
    }
   ],
   "source": [
    "df_total_article_it.head()"
   ]
  },
  {
   "cell_type": "code",
   "execution_count": 78,
   "metadata": {
    "collapsed": true
   },
   "outputs": [],
   "source": [
    "interested_it_art = pd.merge(df_total_article_it, df_it_titles, how = 'right', on=['Title'])"
   ]
  },
  {
   "cell_type": "code",
   "execution_count": 79,
   "metadata": {
    "collapsed": false
   },
   "outputs": [
    {
     "data": {
      "text/plain": [
       "(515, 2)"
      ]
     },
     "execution_count": 79,
     "metadata": {},
     "output_type": "execute_result"
    }
   ],
   "source": [
    "interested_it_art.shape"
   ]
  },
  {
   "cell_type": "code",
   "execution_count": 96,
   "metadata": {
    "collapsed": false
   },
   "outputs": [],
   "source": [
    "visited_article = interested_it_art[interested_it_art['Pageviews'].notnull()]"
   ]
  },
  {
   "cell_type": "code",
   "execution_count": 97,
   "metadata": {
    "collapsed": false
   },
   "outputs": [],
   "source": [
    "ranked_articles = visited_article.sort_values('Pageviews', ascending = False)"
   ]
  },
  {
   "cell_type": "code",
   "execution_count": null,
   "metadata": {
    "collapsed": true
   },
   "outputs": [],
   "source": []
  }
 ],
 "metadata": {
  "anaconda-cloud": {},
  "kernelspec": {
   "display_name": "Python [Root]",
   "language": "python",
   "name": "Python [Root]"
  },
  "language_info": {
   "codemirror_mode": {
    "name": "ipython",
    "version": 3
   },
   "file_extension": ".py",
   "mimetype": "text/x-python",
   "name": "python",
   "nbconvert_exporter": "python",
   "pygments_lexer": "ipython3",
   "version": "3.5.2"
  }
 },
 "nbformat": 4,
 "nbformat_minor": 0
}
